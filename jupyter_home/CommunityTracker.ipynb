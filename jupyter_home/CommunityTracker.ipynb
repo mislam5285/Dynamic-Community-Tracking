{
 "cells": [
  {
   "cell_type": "code",
   "execution_count": 9,
   "metadata": {},
   "outputs": [],
   "source": [
    "import igraph\n",
    "from datetime import date, timedelta\n",
    "\n",
    "from sources.gloaders.enron_loader import EnronLoader\n",
    "from sources.gloaders.dybench_loader import DybenchLoader\n",
    "\n",
    "from sources.dynamic_community_tracking import DynamicCommunityTraking\n",
    "from sources.events_painter import EventsPainter"
   ]
  },
  {
   "cell_type": "markdown",
   "metadata": {},
   "source": [
    "# Dybench merge"
   ]
  },
  {
   "cell_type": "code",
   "execution_count": null,
   "metadata": {},
   "outputs": [],
   "source": [
    "dybench = DybenchLoader(tgraph_path=\"datasets/merge100.tgraph\", tcomms_path=\"datasets/merge100.tcomms\")\n",
    "print(\"{0} snapshots loaded\".format(dybench.get_dataset_info()[\"snapshot_count\"]))"
   ]
  },
  {
   "cell_type": "code",
   "execution_count": null,
   "metadata": {},
   "outputs": [],
   "source": [
    "d_tracker = DynamicCommunityTraking(dybench)"
   ]
  },
  {
   "cell_type": "code",
   "execution_count": null,
   "metadata": {},
   "outputs": [],
   "source": [
    "d_coms = d_tracker.find_events()"
   ]
  },
  {
   "cell_type": "code",
   "execution_count": null,
   "metadata": {
    "scrolled": false
   },
   "outputs": [],
   "source": [
    "painter = EventsPainter(d_coms)\n",
    "painter.paint_events(\"outputs/events_merge100_c2.png\")"
   ]
  },
  {
   "cell_type": "code",
   "execution_count": null,
   "metadata": {},
   "outputs": [],
   "source": [
    "for i, events in enumerate(d_coms):\n",
    "    print(\"C{0}\".format(i))\n",
    "    for e in events:\n",
    "        print(\"t{0}:{1}\".format(e[1],e[2]))"
   ]
  },
  {
   "cell_type": "markdown",
   "metadata": {},
   "source": [
    "# Dybench grow"
   ]
  },
  {
   "cell_type": "code",
   "execution_count": null,
   "metadata": {},
   "outputs": [],
   "source": [
    "grow = DybenchLoader(tgraph_path=\"datasets/grow100.tgraph\", tcomms_path=\"datasets/grow100.tcomms\")\n",
    "print(\"{0} snapshots loaded\".format(grow.get_dataset_info()[\"snapshot_count\"]))"
   ]
  },
  {
   "cell_type": "code",
   "execution_count": null,
   "metadata": {},
   "outputs": [],
   "source": [
    "d_tracker_grow = DynamicCommunityTraking(grow)"
   ]
  },
  {
   "cell_type": "code",
   "execution_count": null,
   "metadata": {},
   "outputs": [],
   "source": [
    "d_coms_grow = d_tracker_grow.find_events()"
   ]
  },
  {
   "cell_type": "code",
   "execution_count": null,
   "metadata": {
    "scrolled": false
   },
   "outputs": [],
   "source": [
    "painter = EventsPainter(d_coms_grow)\n",
    "painter.paint_events(\"outputs/events_grow100_c2.png\")"
   ]
  },
  {
   "cell_type": "code",
   "execution_count": null,
   "metadata": {},
   "outputs": [],
   "source": [
    "for i, events in enumerate(d_coms_grow):\n",
    "    print(\"C{0}\".format(i))\n",
    "    for e in events:\n",
    "        print(\"t{0}:{1}\".format(e[1],e[2]))"
   ]
  },
  {
   "cell_type": "markdown",
   "metadata": {},
   "source": [
    "# Dybench grow 4 coms"
   ]
  },
  {
   "cell_type": "code",
   "execution_count": null,
   "metadata": {},
   "outputs": [],
   "source": [
    "grow_c4 = DybenchLoader(tgraph_path=\"datasets/grow100_c4.tgraph\", tcomms_path=\"datasets/grow100_c4.tcomms\")\n",
    "print(\"{0} snapshots loaded\".format(grow_c4.get_dataset_info()[\"snapshot_count\"]))"
   ]
  },
  {
   "cell_type": "code",
   "execution_count": null,
   "metadata": {},
   "outputs": [],
   "source": [
    "d_tracker_grow = DynamicCommunityTraking(grow_c4)"
   ]
  },
  {
   "cell_type": "code",
   "execution_count": null,
   "metadata": {},
   "outputs": [],
   "source": [
    "d_coms_grow = d_tracker_grow.find_events()"
   ]
  },
  {
   "cell_type": "code",
   "execution_count": null,
   "metadata": {
    "scrolled": false
   },
   "outputs": [],
   "source": [
    "painter = EventsPainter(d_coms_grow)\n",
    "painter.paint_events(\"outputs/events_grow100_c4.png\")"
   ]
  },
  {
   "cell_type": "code",
   "execution_count": null,
   "metadata": {},
   "outputs": [],
   "source": [
    "for i, events in enumerate(d_coms_grow):\n",
    "    print(\"C{0}\".format(i))\n",
    "    for e in events:\n",
    "        print(\"t{0}:{1}\".format(e[1],e[2]))"
   ]
  },
  {
   "cell_type": "markdown",
   "metadata": {},
   "source": [
    "# Dybench merge 4 coms"
   ]
  },
  {
   "cell_type": "code",
   "execution_count": null,
   "metadata": {},
   "outputs": [],
   "source": [
    "merge_c4 = DybenchLoader(tgraph_path=\"datasets/merge100_c4.tgraph\", tcomms_path=\"datasets/merge100_c4.tcomms\")\n",
    "print(\"{0} snapshots loaded\".format(merge_c4.get_dataset_info()[\"snapshot_count\"]))"
   ]
  },
  {
   "cell_type": "code",
   "execution_count": null,
   "metadata": {},
   "outputs": [],
   "source": [
    "d_tracker_grow = DynamicCommunityTraking(merge_c4)"
   ]
  },
  {
   "cell_type": "code",
   "execution_count": null,
   "metadata": {},
   "outputs": [],
   "source": [
    "d_coms_grow = d_tracker_grow.find_events()"
   ]
  },
  {
   "cell_type": "code",
   "execution_count": null,
   "metadata": {
    "scrolled": false
   },
   "outputs": [],
   "source": [
    "painter = EventsPainter(d_coms_grow)\n",
    "painter.paint_events(\"outputs/events_merge_c4.png\")"
   ]
  },
  {
   "cell_type": "code",
   "execution_count": null,
   "metadata": {},
   "outputs": [],
   "source": [
    "for i, events in enumerate(d_coms_grow):\n",
    "    print(\"C{0}\".format(i))\n",
    "    for e in events:\n",
    "        print(\"t{0}:{1}\".format(e[1],e[2]))"
   ]
  },
  {
   "cell_type": "markdown",
   "metadata": {},
   "source": [
    "# Enron IV"
   ]
  },
  {
   "cell_type": "code",
   "execution_count": 27,
   "metadata": {},
   "outputs": [
    {
     "name": "stdout",
     "output_type": "stream",
     "text": [
      "{'dataset_file': 'datasets/enron_corrected.csv', 'init_date': '1999-05-01', 'end_date': '2000-01-01', 'duration_snapshot': '30 days, 0:00:00', 'snapshot_count': 8, 'n_nodes': [307, 377, 610, 461, 806, 891, 1268, 1759], 'n_edges': [719, 926, 1286, 1467, 3006, 3609, 2248, 5518], 'ground_truth': False, 'memebers': None, 'n_communites': None}\n"
     ]
    }
   ],
   "source": [
    "enron4 = EnronLoader(file=\"datasets/enron_corrected.csv\", \n",
    "                    init_date=date(1999, 5, 1), \n",
    "                    end_date=date(2000, 1, 1),\n",
    "                    duration_snapshot=timedelta(days=30),\n",
    "                    overlap=timedelta(days=5))\n",
    "\n",
    "print(enron4.get_dataset_info())"
   ]
  },
  {
   "cell_type": "code",
   "execution_count": 28,
   "metadata": {},
   "outputs": [],
   "source": [
    "tracker = DynamicCommunityTraking(enron4, 0.3, 2)"
   ]
  },
  {
   "cell_type": "code",
   "execution_count": 29,
   "metadata": {},
   "outputs": [],
   "source": [
    "d_coms = tracker.find_events()"
   ]
  },
  {
   "cell_type": "code",
   "execution_count": 33,
   "metadata": {},
   "outputs": [
    {
     "name": "stdout",
     "output_type": "stream",
     "text": [
      "remove 572 vextex\n"
     ]
    }
   ],
   "source": [
    "painter = EventsPainter(d_coms)\n",
    "g = painter.make_events_graph()\n",
    "\n",
    "index_destroy = []\n",
    "\n",
    "components = g.components(mode=igraph.WEAK)\n",
    "for cluster in components:\n",
    "    if len(cluster) <= 3:\n",
    "        index_destroy.extend(cluster)\n",
    "\n",
    "g.delete_vertices(index_destroy)\n",
    "print(\"remove {0} vextex\".format(len(index_destroy)))"
   ]
  },
  {
   "cell_type": "code",
   "execution_count": 34,
   "metadata": {},
   "outputs": [
    {
     "ename": "AttributeError",
     "evalue": "'bytes' object has no attribute 'encode'",
     "output_type": "error",
     "traceback": [
      "\u001b[0;31m---------------------------------------------------------------------------\u001b[0m",
      "\u001b[0;31mAttributeError\u001b[0m                            Traceback (most recent call last)",
      "\u001b[0;32m/usr/local/lib/python3.6/site-packages/IPython/core/formatters.py\u001b[0m in \u001b[0;36m__call__\u001b[0;34m(self, obj)\u001b[0m\n\u001b[1;32m    343\u001b[0m             \u001b[0mmethod\u001b[0m \u001b[0;34m=\u001b[0m \u001b[0mget_real_method\u001b[0m\u001b[0;34m(\u001b[0m\u001b[0mobj\u001b[0m\u001b[0;34m,\u001b[0m \u001b[0mself\u001b[0m\u001b[0;34m.\u001b[0m\u001b[0mprint_method\u001b[0m\u001b[0;34m)\u001b[0m\u001b[0;34m\u001b[0m\u001b[0m\n\u001b[1;32m    344\u001b[0m             \u001b[0;32mif\u001b[0m \u001b[0mmethod\u001b[0m \u001b[0;32mis\u001b[0m \u001b[0;32mnot\u001b[0m \u001b[0;32mNone\u001b[0m\u001b[0;34m:\u001b[0m\u001b[0;34m\u001b[0m\u001b[0m\n\u001b[0;32m--> 345\u001b[0;31m                 \u001b[0;32mreturn\u001b[0m \u001b[0mmethod\u001b[0m\u001b[0;34m(\u001b[0m\u001b[0;34m)\u001b[0m\u001b[0;34m\u001b[0m\u001b[0m\n\u001b[0m\u001b[1;32m    346\u001b[0m             \u001b[0;32mreturn\u001b[0m \u001b[0;32mNone\u001b[0m\u001b[0;34m\u001b[0m\u001b[0m\n\u001b[1;32m    347\u001b[0m         \u001b[0;32melse\u001b[0m\u001b[0;34m:\u001b[0m\u001b[0;34m\u001b[0m\u001b[0m\n",
      "\u001b[0;32m/usr/local/lib/python3.6/site-packages/igraph/drawing/__init__.py\u001b[0m in \u001b[0;36m_repr_svg_\u001b[0;34m(self)\u001b[0m\n\u001b[1;32m    352\u001b[0m         \u001b[0msurface\u001b[0m\u001b[0;34m.\u001b[0m\u001b[0mfinish\u001b[0m\u001b[0;34m(\u001b[0m\u001b[0;34m)\u001b[0m\u001b[0;34m\u001b[0m\u001b[0m\n\u001b[1;32m    353\u001b[0m         \u001b[0;31m# Return the raw SVG representation\u001b[0m\u001b[0;34m\u001b[0m\u001b[0;34m\u001b[0m\u001b[0m\n\u001b[0;32m--> 354\u001b[0;31m         \u001b[0;32mreturn\u001b[0m \u001b[0mio\u001b[0m\u001b[0;34m.\u001b[0m\u001b[0mgetvalue\u001b[0m\u001b[0;34m(\u001b[0m\u001b[0;34m)\u001b[0m\u001b[0;34m.\u001b[0m\u001b[0mencode\u001b[0m\u001b[0;34m(\u001b[0m\u001b[0;34m\"utf-8\"\u001b[0m\u001b[0;34m)\u001b[0m\u001b[0;34m\u001b[0m\u001b[0m\n\u001b[0m\u001b[1;32m    355\u001b[0m \u001b[0;34m\u001b[0m\u001b[0m\n\u001b[1;32m    356\u001b[0m     \u001b[0;34m@\u001b[0m\u001b[0mproperty\u001b[0m\u001b[0;34m\u001b[0m\u001b[0m\n",
      "\u001b[0;31mAttributeError\u001b[0m: 'bytes' object has no attribute 'encode'"
     ]
    },
    {
     "data": {
      "text/plain": [
       "<igraph.drawing.Plot at 0x7efc7fc90358>"
      ]
     },
     "execution_count": 34,
     "metadata": {},
     "output_type": "execute_result"
    }
   ],
   "source": [
    "visual_style = {\"bbox\": (1080, 900), \"margin\": 60, \"vertex_size\": 30, \"vertex_label_size\": 10,\n",
    "                    \"vertex_color\": \"green\", \"edge_width\": 0.5,\n",
    "                    \"layout\": g.layout_auto(), \"vertex_label\": g.vs[\"label\"]}\n",
    "\n",
    "igraph.plot(g, \"outputs/enron4_events.png\", **visual_style)"
   ]
  },
  {
   "cell_type": "code",
   "execution_count": null,
   "metadata": {
    "scrolled": false
   },
   "outputs": [],
   "source": [
    "for i, events in enumerate(d_coms):\n",
    "    print(\"C{0}\".format(i))\n",
    "    for e in events:\n",
    "        print(\"t{0}:{1}\".format(e[1],e[2]))"
   ]
  },
  {
   "cell_type": "code",
   "execution_count": null,
   "metadata": {},
   "outputs": [],
   "source": []
  }
 ],
 "metadata": {
  "kernelspec": {
   "display_name": "Python 3",
   "language": "python",
   "name": "python3"
  },
  "language_info": {
   "codemirror_mode": {
    "name": "ipython",
    "version": 3
   },
   "file_extension": ".py",
   "mimetype": "text/x-python",
   "name": "python",
   "nbconvert_exporter": "python",
   "pygments_lexer": "ipython3",
   "version": "3.6.4"
  }
 },
 "nbformat": 4,
 "nbformat_minor": 2
}
