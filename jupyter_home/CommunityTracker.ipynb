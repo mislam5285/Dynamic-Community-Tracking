{
 "cells": [
  {
   "cell_type": "code",
   "execution_count": 1,
   "metadata": {},
   "outputs": [],
   "source": [
    "import igraph\n",
    "from datetime import date, timedelta\n",
    "\n",
    "from sources.gloaders.enron_loader import EnronLoader\n",
    "from sources.gloaders.dybench_loader import DybenchLoader\n",
    "\n",
    "from sources.dynamic_community_tracking import DynamicCommunityTraking\n",
    "from sources.events_painter import EventsPainter"
   ]
  },
  {
   "cell_type": "markdown",
   "metadata": {},
   "source": [
    "# Dybench merge: 100 nodes; 2 comms"
   ]
  },
  {
   "cell_type": "code",
   "execution_count": null,
   "metadata": {},
   "outputs": [],
   "source": [
    "dybench = DybenchLoader(tgraph_path=\"datasets/merge100.tgraph\", tcomms_path=\"datasets/merge100.tcomms\")\n",
    "print(\"{0} snapshots loaded\".format(dybench.get_dataset_info()[\"snapshot_count\"]))"
   ]
  },
  {
   "cell_type": "code",
   "execution_count": null,
   "metadata": {},
   "outputs": [],
   "source": [
    "d_tracker = DynamicCommunityTraking(dybench)"
   ]
  },
  {
   "cell_type": "code",
   "execution_count": null,
   "metadata": {},
   "outputs": [],
   "source": [
    "d_coms = d_tracker.find_events()"
   ]
  },
  {
   "cell_type": "code",
   "execution_count": null,
   "metadata": {
    "scrolled": false
   },
   "outputs": [],
   "source": [
    "painter = EventsPainter(d_coms)\n",
    "painter.paint_events(\"outputs/events_merge100_c2.png\")"
   ]
  },
  {
   "cell_type": "code",
   "execution_count": null,
   "metadata": {},
   "outputs": [],
   "source": [
    "for i, events in enumerate(d_coms):\n",
    "    print(\"C{0}\".format(i))\n",
    "    for e in events:\n",
    "        print(\"t{0}:{1}\".format(e[1],e[2]))"
   ]
  },
  {
   "cell_type": "markdown",
   "metadata": {},
   "source": [
    "# Dybench grow: 100 nodes; 2 comms"
   ]
  },
  {
   "cell_type": "code",
   "execution_count": null,
   "metadata": {},
   "outputs": [],
   "source": [
    "grow = DybenchLoader(tgraph_path=\"datasets/grow100.tgraph\", tcomms_path=\"datasets/grow100.tcomms\")\n",
    "print(\"{0} snapshots loaded\".format(grow.get_dataset_info()[\"snapshot_count\"]))"
   ]
  },
  {
   "cell_type": "code",
   "execution_count": null,
   "metadata": {},
   "outputs": [],
   "source": [
    "d_tracker_grow = DynamicCommunityTraking(grow)"
   ]
  },
  {
   "cell_type": "code",
   "execution_count": null,
   "metadata": {},
   "outputs": [],
   "source": [
    "d_coms_grow = d_tracker_grow.find_events()"
   ]
  },
  {
   "cell_type": "code",
   "execution_count": null,
   "metadata": {
    "scrolled": false
   },
   "outputs": [],
   "source": [
    "painter = EventsPainter(d_coms_grow)\n",
    "painter.paint_events(\"outputs/events_grow100_c2.png\")"
   ]
  },
  {
   "cell_type": "code",
   "execution_count": null,
   "metadata": {},
   "outputs": [],
   "source": [
    "for i, events in enumerate(d_coms_grow):\n",
    "    print(\"C{0}\".format(i))\n",
    "    for e in events:\n",
    "        print(\"t{0}:{1}\".format(e[1],e[2]))"
   ]
  },
  {
   "cell_type": "markdown",
   "metadata": {},
   "source": [
    "# Dybench grow: 200 nodes; 4 coms"
   ]
  },
  {
   "cell_type": "code",
   "execution_count": null,
   "metadata": {},
   "outputs": [],
   "source": [
    "grow_c4 = DybenchLoader(tgraph_path=\"datasets/grow100_c4.tgraph\", tcomms_path=\"datasets/grow100_c4.tcomms\")\n",
    "print(\"{0} snapshots loaded\".format(grow_c4.get_dataset_info()[\"snapshot_count\"]))"
   ]
  },
  {
   "cell_type": "code",
   "execution_count": null,
   "metadata": {},
   "outputs": [],
   "source": [
    "d_tracker_grow = DynamicCommunityTraking(grow_c4)"
   ]
  },
  {
   "cell_type": "code",
   "execution_count": null,
   "metadata": {},
   "outputs": [],
   "source": [
    "d_coms_grow = d_tracker_grow.find_events()"
   ]
  },
  {
   "cell_type": "code",
   "execution_count": null,
   "metadata": {
    "scrolled": false
   },
   "outputs": [],
   "source": [
    "painter = EventsPainter(d_coms_grow)\n",
    "painter.paint_events(\"outputs/events_grow100_c4.png\")"
   ]
  },
  {
   "cell_type": "code",
   "execution_count": null,
   "metadata": {},
   "outputs": [],
   "source": [
    "for i, events in enumerate(d_coms_grow):\n",
    "    print(\"C{0}\".format(i))\n",
    "    for e in events:\n",
    "        print(\"t{0}:{1}\".format(e[1],e[2]))"
   ]
  },
  {
   "cell_type": "markdown",
   "metadata": {},
   "source": [
    "# Dybench merge: 200 nodes; 4 coms"
   ]
  },
  {
   "cell_type": "code",
   "execution_count": null,
   "metadata": {},
   "outputs": [],
   "source": [
    "merge_c4 = DybenchLoader(tgraph_path=\"datasets/merge100_c4.tgraph\", tcomms_path=\"datasets/merge100_c4.tcomms\")\n",
    "print(\"{0} snapshots loaded\".format(merge_c4.get_dataset_info()[\"snapshot_count\"]))"
   ]
  },
  {
   "cell_type": "code",
   "execution_count": null,
   "metadata": {},
   "outputs": [],
   "source": [
    "d_tracker_grow = DynamicCommunityTraking(merge_c4)"
   ]
  },
  {
   "cell_type": "code",
   "execution_count": null,
   "metadata": {},
   "outputs": [],
   "source": [
    "d_coms_grow = d_tracker_grow.find_events()"
   ]
  },
  {
   "cell_type": "code",
   "execution_count": null,
   "metadata": {
    "scrolled": false
   },
   "outputs": [],
   "source": [
    "painter = EventsPainter(d_coms_grow)\n",
    "painter.paint_events(\"outputs/events_merge_c4.png\")"
   ]
  },
  {
   "cell_type": "code",
   "execution_count": null,
   "metadata": {},
   "outputs": [],
   "source": [
    "for i, events in enumerate(d_coms_grow):\n",
    "    print(\"C{0}\".format(i))\n",
    "    for e in events:\n",
    "        print(\"t{0}:{1}\".format(e[1],e[2]))"
   ]
  },
  {
   "cell_type": "markdown",
   "metadata": {},
   "source": [
    "# Dybench merge: 200 nodes; 4 coms"
   ]
  },
  {
   "cell_type": "code",
   "execution_count": null,
   "metadata": {},
   "outputs": [],
   "source": [
    "merge_c4 = DybenchLoader(tgraph_path=\"datasets/merge100_c4.tgraph\", tcomms_path=\"datasets/merge100_c4.tcomms\")\n",
    "print(\"{0} snapshots loaded\".format(merge_c4.get_dataset_info()[\"snapshot_count\"]))"
   ]
  },
  {
   "cell_type": "code",
   "execution_count": null,
   "metadata": {},
   "outputs": [],
   "source": [
    "d_tracker_grow = DynamicCommunityTraking(merge_c4)"
   ]
  },
  {
   "cell_type": "code",
   "execution_count": null,
   "metadata": {},
   "outputs": [],
   "source": [
    "d_coms_grow = d_tracker_grow.find_events()"
   ]
  },
  {
   "cell_type": "code",
   "execution_count": null,
   "metadata": {
    "scrolled": false
   },
   "outputs": [],
   "source": [
    "painter = EventsPainter(d_coms_grow)\n",
    "painter.paint_events(\"outputs/events_merge_c4.png\")"
   ]
  },
  {
   "cell_type": "code",
   "execution_count": null,
   "metadata": {},
   "outputs": [],
   "source": [
    "for i, events in enumerate(d_coms_grow):\n",
    "    print(\"C{0}\".format(i))\n",
    "    for e in events:\n",
    "        print(\"t{0}:{1}\".format(e[1],e[2]))"
   ]
  },
  {
   "cell_type": "markdown",
   "metadata": {},
   "source": [
    "# Dybench merge: 1000 nodes; 4 coms"
   ]
  },
  {
   "cell_type": "code",
   "execution_count": 2,
   "metadata": {},
   "outputs": [
    {
     "name": "stdout",
     "output_type": "stream",
     "text": [
      "11 snapshots loaded\n"
     ]
    }
   ],
   "source": [
    "merge_1000_c4 = DybenchLoader(tgraph_path=\"datasets/merge1000n_4c.tgraph\", tcomms_path=\"datasets/merge1000n_4c.tcomms\")\n",
    "print(\"{0} snapshots loaded\".format(merge_1000_c4.get_dataset_info()[\"snapshot_count\"]))"
   ]
  },
  {
   "cell_type": "code",
   "execution_count": 3,
   "metadata": {},
   "outputs": [],
   "source": [
    "d_tracker_grow = DynamicCommunityTraking(merge_1000_c4)"
   ]
  },
  {
   "cell_type": "code",
   "execution_count": 4,
   "metadata": {},
   "outputs": [],
   "source": [
    "d_coms_grow = d_tracker_grow.find_events()"
   ]
  },
  {
   "cell_type": "code",
   "execution_count": 5,
   "metadata": {
    "scrolled": false
   },
   "outputs": [],
   "source": [
    "painter = EventsPainter(d_coms_grow)\n",
    "painter.paint_events(\"outputs/events_merge_1000n_4c.png\")"
   ]
  },
  {
   "cell_type": "code",
   "execution_count": null,
   "metadata": {},
   "outputs": [],
   "source": [
    "for i, events in enumerate(d_coms_grow):\n",
    "    print(\"C{0}\".format(i))\n",
    "    for e in events:\n",
    "        print(\"t{0}:{1}\".format(e[1],e[2]))"
   ]
  },
  {
   "cell_type": "markdown",
   "metadata": {},
   "source": [
    "# Enron IV"
   ]
  },
  {
   "cell_type": "code",
   "execution_count": null,
   "metadata": {},
   "outputs": [],
   "source": [
    "enron4 = EnronLoader(file=\"datasets/enron_corrected.csv\", \n",
    "                    init_date=date(1999, 5, 1), \n",
    "                    end_date=date(2000, 1, 1),\n",
    "                    duration_snapshot=timedelta(days=30),\n",
    "                    overlap=timedelta(days=5))\n",
    "\n",
    "print(enron4.get_dataset_info())"
   ]
  },
  {
   "cell_type": "code",
   "execution_count": null,
   "metadata": {},
   "outputs": [],
   "source": [
    "tracker = DynamicCommunityTraking(enron4, 0.3, 2)"
   ]
  },
  {
   "cell_type": "code",
   "execution_count": null,
   "metadata": {},
   "outputs": [],
   "source": [
    "d_coms = tracker.find_events()"
   ]
  },
  {
   "cell_type": "code",
   "execution_count": null,
   "metadata": {},
   "outputs": [],
   "source": [
    "painter = EventsPainter(d_coms)\n",
    "g = painter.make_events_graph()\n",
    "\n",
    "index_destroy = []\n",
    "\n",
    "components = g.components(mode=igraph.WEAK)\n",
    "for cluster in components:\n",
    "    if len(cluster) <= 2:\n",
    "        index_destroy.extend(cluster)\n",
    "\n",
    "g.delete_vertices(index_destroy)\n",
    "print(\"remove {0} vextex\".format(len(index_destroy)))"
   ]
  },
  {
   "cell_type": "code",
   "execution_count": null,
   "metadata": {},
   "outputs": [],
   "source": [
    "visual_style = {\"bbox\": (1080, 900), \"margin\": 60, \"vertex_size\": 30, \"vertex_label_size\": 10,\n",
    "                    \"vertex_color\": \"green\", \"edge_width\": 0.5,\n",
    "                    \"layout\": g.layout_auto(), \"vertex_label\": g.vs[\"label\"]}\n",
    "\n",
    "igraph.plot(g, \"outputs/enron4_events.png\", **visual_style)"
   ]
  },
  {
   "cell_type": "code",
   "execution_count": null,
   "metadata": {
    "scrolled": false
   },
   "outputs": [],
   "source": [
    "for i, events in enumerate(d_coms):\n",
    "    print(\"C{0}\".format(i))\n",
    "    for e in events:\n",
    "        print(\"t{0}:{1}\".format(e[1],e[2]))"
   ]
  },
  {
   "cell_type": "code",
   "execution_count": null,
   "metadata": {},
   "outputs": [],
   "source": []
  }
 ],
 "metadata": {
  "kernelspec": {
   "display_name": "Python 3",
   "language": "python",
   "name": "python3"
  },
  "language_info": {
   "codemirror_mode": {
    "name": "ipython",
    "version": 3
   },
   "file_extension": ".py",
   "mimetype": "text/x-python",
   "name": "python",
   "nbconvert_exporter": "python",
   "pygments_lexer": "ipython3",
   "version": "3.6.4"
  }
 },
 "nbformat": 4,
 "nbformat_minor": 2
}
