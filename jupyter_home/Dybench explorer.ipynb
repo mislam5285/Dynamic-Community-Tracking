{
 "cells": [
  {
   "cell_type": "markdown",
   "metadata": {},
   "source": [
    "# Includes"
   ]
  },
  {
   "cell_type": "code",
   "execution_count": 1,
   "metadata": {},
   "outputs": [],
   "source": [
    "import igraph\n",
    "\n",
    "# Beanchmar Loading\n",
    "from sources.gloaders.dybench_loader import DybenchLoader"
   ]
  },
  {
   "cell_type": "markdown",
   "metadata": {},
   "source": [
    "# merge 2 coms"
   ]
  },
  {
   "cell_type": "code",
   "execution_count": 2,
   "metadata": {},
   "outputs": [
    {
     "name": "stdout",
     "output_type": "stream",
     "text": [
      "11 snapshots loaded\n"
     ]
    }
   ],
   "source": [
    "merge = DybenchLoader(tgraph_path=\"datasets/merge100.tgraph\", tcomms_path=\"datasets/merge100.tcomms\")\n",
    "print(\"{0} snapshots loaded\".format(merge.get_dataset_info()[\"snapshot_count\"]))"
   ]
  },
  {
   "cell_type": "code",
   "execution_count": 3,
   "metadata": {},
   "outputs": [],
   "source": [
    "img_path = \"outputs\"\n",
    "merge.save_graphs_img(img_path)"
   ]
  },
  {
   "cell_type": "code",
   "execution_count": null,
   "metadata": {},
   "outputs": [],
   "source": [
    "for id_sn in range(merge.get_dataset_info()[\"snapshot_count\"]):\n",
    "    sn = merge.snapshots[id_sn]\n",
    "\n",
    "    communities = sn.community_infomap()\n",
    "    colors = ['red', 'green', 'blue', 'yellow']\n",
    "\n",
    "    for i, comm in enumerate(communities):\n",
    "        for n in comm:\n",
    "            sn.vs[n][\"color\"] = colors[i]\n",
    "\n",
    "    visual_style = {\"bbox\": (800, 600), \"margin\": 60, \"vertex_size\": 8, \"vertex_label_size\": 24,\n",
    "                    \"vertex_color\": sn.vs['color'], \"edge_width\": 0.5,\n",
    "                    \"layout\": sn.layout_auto(), \"vertex_label\": sn.vs[\"name\"]}\n",
    "\n",
    "    img_path = \"label_comms_{0}.png\".format(id_sn)\n",
    "    igraph.plot(sn, img_path, **visual_style)"
   ]
  },
  {
   "cell_type": "markdown",
   "metadata": {},
   "source": [
    "# grow 2 coms"
   ]
  },
  {
   "cell_type": "code",
   "execution_count": null,
   "metadata": {},
   "outputs": [],
   "source": [
    "grow = DybenchLoader(tgraph_path=\"datasets/grow100.tgraph\", tcomms_path=\"datasets/grow100.tcomms\")\n",
    "print(\"{0} snapshots loaded\".format(grow.get_dataset_info()[\"snapshot_count\"]))"
   ]
  },
  {
   "cell_type": "code",
   "execution_count": null,
   "metadata": {},
   "outputs": [],
   "source": [
    "img_path = \"outputs\"\n",
    "grow.save_graphs_img(img_path)"
   ]
  },
  {
   "cell_type": "code",
   "execution_count": null,
   "metadata": {},
   "outputs": [],
   "source": [
    "for id_sn in range(grow.get_dataset_info()[\"snapshot_count\"]):\n",
    "    sn = grow.snapshots[id_sn]\n",
    "\n",
    "    communities = sn.community_infomap()\n",
    "    colors = ['red', 'green', 'blue', 'yellow']\n",
    "\n",
    "    for i, comm in enumerate(communities):\n",
    "        for n in comm:\n",
    "            sn.vs[n][\"color\"] = colors[i]\n",
    "\n",
    "    visual_style = {\"bbox\": (800, 600), \"margin\": 60, \"vertex_size\": 8, \"vertex_label_size\": 24,\n",
    "                    \"vertex_color\": sn.vs['color'], \"edge_width\": 0.5,\n",
    "                    \"layout\": sn.layout_auto(), \"vertex_label\": sn.vs[\"name\"]}\n",
    "\n",
    "    img_path = \"label_comms_{0}.png\".format(id_sn)\n",
    "    igraph.plot(sn, img_path, **visual_style)"
   ]
  },
  {
   "cell_type": "markdown",
   "metadata": {},
   "source": [
    "# grow 4 coms"
   ]
  },
  {
   "cell_type": "code",
   "execution_count": 4,
   "metadata": {},
   "outputs": [
    {
     "name": "stdout",
     "output_type": "stream",
     "text": [
      "11 snapshots loaded\n"
     ]
    }
   ],
   "source": [
    "grow_c4 = DybenchLoader(tgraph_path=\"datasets/grow100_c4.tgraph\", tcomms_path=\"datasets/grow100_c4.tcomms\")\n",
    "print(\"{0} snapshots loaded\".format(grow_c4.get_dataset_info()[\"snapshot_count\"]))"
   ]
  },
  {
   "cell_type": "code",
   "execution_count": 5,
   "metadata": {},
   "outputs": [],
   "source": [
    "img_path = \"outputs\"\n",
    "grow_c4.save_graphs_img(img_path)"
   ]
  },
  {
   "cell_type": "code",
   "execution_count": null,
   "metadata": {},
   "outputs": [],
   "source": [
    "for id_sn in range(grow_c4.get_dataset_info()[\"snapshot_count\"]):\n",
    "    sn = grow_c4.snapshots[id_sn]\n",
    "\n",
    "    communities = sn.community_infomap()\n",
    "    colors = ['red', 'green', 'blue', 'yellow']\n",
    "\n",
    "    for i, comm in enumerate(communities):\n",
    "        for n in comm:\n",
    "            sn.vs[n][\"color\"] = colors[i]\n",
    "\n",
    "    visual_style = {\"bbox\": (800, 600), \"margin\": 60, \"vertex_size\": 8, \"vertex_label_size\": 24,\n",
    "                    \"vertex_color\": sn.vs['color'], \"edge_width\": 0.5,\n",
    "                    \"layout\": sn.layout_auto(), \"vertex_label\": sn.vs[\"name\"]}\n",
    "\n",
    "    img_path = \"label_comms_{0}.png\".format(id_sn)\n",
    "    igraph.plot(sn, img_path, **visual_style)"
   ]
  },
  {
   "cell_type": "markdown",
   "metadata": {},
   "source": [
    "# merge 4 coms"
   ]
  },
  {
   "cell_type": "code",
   "execution_count": 6,
   "metadata": {},
   "outputs": [
    {
     "name": "stdout",
     "output_type": "stream",
     "text": [
      "11 snapshots loaded\n"
     ]
    }
   ],
   "source": [
    "merge_c4 = DybenchLoader(tgraph_path=\"datasets/merge100_c4.tgraph\", tcomms_path=\"datasets/merge100_c4.tcomms\")\n",
    "print(\"{0} snapshots loaded\".format(merge_c4.get_dataset_info()[\"snapshot_count\"]))"
   ]
  },
  {
   "cell_type": "code",
   "execution_count": 7,
   "metadata": {},
   "outputs": [],
   "source": [
    "img_path = \"outputs\"\n",
    "merge_c4.save_graphs_img(img_path)"
   ]
  },
  {
   "cell_type": "code",
   "execution_count": 9,
   "metadata": {},
   "outputs": [],
   "source": [
    "for id_sn in range(merge_c4.get_dataset_info()[\"snapshot_count\"]):\n",
    "    sn = merge_c4.snapshots[id_sn]\n",
    "\n",
    "    communities = sn.community_infomap()\n",
    "    colors = ['red', 'green', 'blue', 'yellow']\n",
    "\n",
    "    for i, comm in enumerate(communities):\n",
    "        for n in comm:\n",
    "            sn.vs[n][\"color\"] = colors[i]\n",
    "\n",
    "    visual_style = {\"bbox\": (800, 600), \"margin\": 60, \"vertex_size\": 8, \"vertex_label_size\": 20,\n",
    "                    \"vertex_color\": sn.vs['color'], \"edge_width\": 0.5,\n",
    "                    \"layout\": sn.layout_auto(), \"vertex_label\": sn.vs[\"name\"]}\n",
    "\n",
    "    img_path = \"label_comms_{0}.png\".format(id_sn)\n",
    "    igraph.plot(sn, img_path, **visual_style)"
   ]
  },
  {
   "cell_type": "code",
   "execution_count": null,
   "metadata": {},
   "outputs": [],
   "source": []
  }
 ],
 "metadata": {
  "kernelspec": {
   "display_name": "Python 3",
   "language": "python",
   "name": "python3"
  },
  "language_info": {
   "codemirror_mode": {
    "name": "ipython",
    "version": 3
   },
   "file_extension": ".py",
   "mimetype": "text/x-python",
   "name": "python",
   "nbconvert_exporter": "python",
   "pygments_lexer": "ipython3",
   "version": "3.6.4"
  }
 },
 "nbformat": 4,
 "nbformat_minor": 2
}
