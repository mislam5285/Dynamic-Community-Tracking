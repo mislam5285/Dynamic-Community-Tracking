{
 "cells": [
  {
   "cell_type": "markdown",
   "metadata": {},
   "source": [
    "# Includes"
   ]
  },
  {
   "cell_type": "code",
   "execution_count": 2,
   "metadata": {},
   "outputs": [],
   "source": [
    "import igraph\n",
    "\n",
    "# Beanchmar Loading\n",
    "from sources.gloaders.dybench_loader import DybenchLoader"
   ]
  },
  {
   "cell_type": "markdown",
   "metadata": {},
   "source": [
    "# merge: 100 nodes 2 coms"
   ]
  },
  {
   "cell_type": "code",
   "execution_count": 2,
   "metadata": {},
   "outputs": [
    {
     "name": "stdout",
     "output_type": "stream",
     "text": [
      "11 snapshots loaded\n"
     ]
    }
   ],
   "source": [
    "merge = DybenchLoader(tgraph_path=\"datasets/merge100.tgraph\", tcomms_path=\"datasets/merge100.tcomms\")\n",
    "print(\"{0} snapshots loaded\".format(merge.get_dataset_info()[\"snapshot_count\"]))"
   ]
  },
  {
   "cell_type": "code",
   "execution_count": 3,
   "metadata": {},
   "outputs": [],
   "source": [
    "img_path = \"outputs\"\n",
    "merge.save_graphs_img(img_path)"
   ]
  },
  {
   "cell_type": "code",
   "execution_count": null,
   "metadata": {},
   "outputs": [],
   "source": [
    "for id_sn in range(merge.get_dataset_info()[\"snapshot_count\"]):\n",
    "    sn = merge.snapshots[id_sn]\n",
    "\n",
    "    communities = sn.community_infomap()\n",
    "    colors = ['red', 'green', 'blue', 'yellow']\n",
    "\n",
    "    for i, comm in enumerate(communities):\n",
    "        for n in comm:\n",
    "            sn.vs[n][\"color\"] = colors[i]\n",
    "\n",
    "    visual_style = {\"bbox\": (800, 600), \"margin\": 60, \"vertex_size\": 8, \"vertex_label_size\": 24,\n",
    "                    \"vertex_color\": sn.vs['color'], \"edge_width\": 0.5,\n",
    "                    \"layout\": sn.layout_auto(), \"vertex_label\": sn.vs[\"name\"]}\n",
    "\n",
    "    img_path = \"label_comms_{0}.png\".format(id_sn)\n",
    "    igraph.plot(sn, img_path, **visual_style)"
   ]
  },
  {
   "cell_type": "markdown",
   "metadata": {},
   "source": [
    "# grow: 100 nodes 2 coms"
   ]
  },
  {
   "cell_type": "code",
   "execution_count": null,
   "metadata": {},
   "outputs": [],
   "source": [
    "grow = DybenchLoader(tgraph_path=\"datasets/grow100.tgraph\", tcomms_path=\"datasets/grow100.tcomms\")\n",
    "print(\"{0} snapshots loaded\".format(grow.get_dataset_info()[\"snapshot_count\"]))"
   ]
  },
  {
   "cell_type": "code",
   "execution_count": null,
   "metadata": {},
   "outputs": [],
   "source": [
    "img_path = \"outputs\"\n",
    "grow.save_graphs_img(img_path)"
   ]
  },
  {
   "cell_type": "code",
   "execution_count": null,
   "metadata": {},
   "outputs": [],
   "source": [
    "for id_sn in range(grow.get_dataset_info()[\"snapshot_count\"]):\n",
    "    sn = grow.snapshots[id_sn]\n",
    "\n",
    "    communities = sn.community_infomap()\n",
    "    colors = ['red', 'green', 'blue', 'yellow']\n",
    "\n",
    "    for i, comm in enumerate(communities):\n",
    "        for n in comm:\n",
    "            sn.vs[n][\"color\"] = colors[i]\n",
    "\n",
    "    visual_style = {\"bbox\": (800, 600), \"margin\": 60, \"vertex_size\": 8, \"vertex_label_size\": 24,\n",
    "                    \"vertex_color\": sn.vs['color'], \"edge_width\": 0.5,\n",
    "                    \"layout\": sn.layout_auto(), \"vertex_label\": sn.vs[\"name\"]}\n",
    "\n",
    "    img_path = \"label_comms_{0}.png\".format(id_sn)\n",
    "    igraph.plot(sn, img_path, **visual_style)"
   ]
  },
  {
   "cell_type": "markdown",
   "metadata": {},
   "source": [
    "# grow: 200 nodes 4 coms"
   ]
  },
  {
   "cell_type": "code",
   "execution_count": 4,
   "metadata": {},
   "outputs": [
    {
     "name": "stdout",
     "output_type": "stream",
     "text": [
      "11 snapshots loaded\n"
     ]
    }
   ],
   "source": [
    "grow_c4 = DybenchLoader(tgraph_path=\"datasets/grow100_c4.tgraph\", tcomms_path=\"datasets/grow100_c4.tcomms\")\n",
    "print(\"{0} snapshots loaded\".format(grow_c4.get_dataset_info()[\"snapshot_count\"]))"
   ]
  },
  {
   "cell_type": "code",
   "execution_count": 5,
   "metadata": {},
   "outputs": [],
   "source": [
    "img_path = \"outputs\"\n",
    "grow_c4.save_graphs_img(img_path)"
   ]
  },
  {
   "cell_type": "code",
   "execution_count": null,
   "metadata": {},
   "outputs": [],
   "source": [
    "for id_sn in range(grow_c4.get_dataset_info()[\"snapshot_count\"]):\n",
    "    sn = grow_c4.snapshots[id_sn]\n",
    "\n",
    "    communities = sn.community_infomap()\n",
    "    colors = ['red', 'green', 'blue', 'yellow']\n",
    "\n",
    "    for i, comm in enumerate(communities):\n",
    "        for n in comm:\n",
    "            sn.vs[n][\"color\"] = colors[i]\n",
    "\n",
    "    visual_style = {\"bbox\": (800, 600), \"margin\": 60, \"vertex_size\": 8, \"vertex_label_size\": 24,\n",
    "                    \"vertex_color\": sn.vs['color'], \"edge_width\": 0.5,\n",
    "                    \"layout\": sn.layout_auto(), \"vertex_label\": sn.vs[\"name\"]}\n",
    "\n",
    "    img_path = \"label_comms_{0}.png\".format(id_sn)\n",
    "    igraph.plot(sn, img_path, **visual_style)"
   ]
  },
  {
   "cell_type": "markdown",
   "metadata": {},
   "source": [
    "# merge: 200 nodes 4 coms"
   ]
  },
  {
   "cell_type": "code",
   "execution_count": 3,
   "metadata": {},
   "outputs": [
    {
     "name": "stdout",
     "output_type": "stream",
     "text": [
      "11 snapshots loaded\n"
     ]
    }
   ],
   "source": [
    "merge_c4 = DybenchLoader(tgraph_path=\"datasets/merge100_c4.tgraph\", tcomms_path=\"datasets/merge100_c4.tcomms\")\n",
    "print(\"{0} snapshots loaded\".format(merge_c4.get_dataset_info()[\"snapshot_count\"]))"
   ]
  },
  {
   "cell_type": "code",
   "execution_count": 4,
   "metadata": {},
   "outputs": [],
   "source": [
    "img_path = \"outputs\"\n",
    "merge_c4.save_graphs_img(img_path)"
   ]
  },
  {
   "cell_type": "code",
   "execution_count": 9,
   "metadata": {},
   "outputs": [],
   "source": [
    "for id_sn in range(merge_c4.get_dataset_info()[\"snapshot_count\"]):\n",
    "    sn = merge_c4.snapshots[id_sn]\n",
    "\n",
    "    communities = sn.community_infomap()\n",
    "    colors = ['red', 'green', 'blue', 'yellow']\n",
    "\n",
    "    for i, comm in enumerate(communities):\n",
    "        for n in comm:\n",
    "            sn.vs[n][\"color\"] = colors[i]\n",
    "\n",
    "    visual_style = {\"bbox\": (800, 600), \"margin\": 60, \"vertex_size\": 8, \"vertex_label_size\": 20,\n",
    "                    \"vertex_color\": sn.vs['color'], \"edge_width\": 0.5,\n",
    "                    \"layout\": sn.layout_auto(), \"vertex_label\": sn.vs[\"name\"]}\n",
    "\n",
    "    img_path = \"label_comms_{0}.png\".format(id_sn)\n",
    "    igraph.plot(sn, img_path, **visual_style)"
   ]
  },
  {
   "cell_type": "markdown",
   "metadata": {},
   "source": [
    "# merge: 1000 nodes 4 coms"
   ]
  },
  {
   "cell_type": "code",
   "execution_count": 51,
   "metadata": {},
   "outputs": [
    {
     "name": "stdout",
     "output_type": "stream",
     "text": [
      "20 snapshots loaded\n"
     ]
    }
   ],
   "source": [
    "merge_1000_c4 = DybenchLoader(tgraph_path=\"datasets/merge1000n_4c.tgraph\", tcomms_path=\"datasets/merge1000n_4c.tcomms\")\n",
    "print(\"{0} snapshots loaded\".format(merge_1000_c4.get_dataset_info()[\"snapshot_count\"]))"
   ]
  },
  {
   "cell_type": "code",
   "execution_count": 50,
   "metadata": {},
   "outputs": [
    {
     "name": "stdout",
     "output_type": "stream",
     "text": [
      "[0.010604732063440824, 0.011114108127545784, 0.010997623350833787, 0.01119904418894891, 0.010566339260689575, 0.009947008108651068, 0.010072842145770783, 0.010453932727265969, 0.01044169047814622, 0.010190835216903213, 0.010535096218255241, 0.010448230115229135, 0.010672163054285838, 0.010887258387385967, 0.010948061914594867, 0.011323239054632547, 0.011661688071291795, 0.011749470134637674, 0.012033881268630933, 0.011778178329757555, 0.012714424120500875, 0.01274322801212259, 0.012736298561642462, 0.012884919381812437, 0.012812409222867, 0.012884978926168758, 0.013376893082175684, 0.013546873997734743, 0.013870706364874974, 0.013964678771729175, 0.014051887423863596, 0.014264769029096333, 0.014850211256993814, 0.015155828683172196, 0.015040199348242963, 0.015561496317914768, 0.015792887859977147, 0.019822586200576447, 0.019932585017257407, 0.02012407331712393, 0.0204577240088272, 0.020791827960597906, 0.020919438620362482, 0.02110097946500812, 0.021904347122100404, 0.02165753213031811, 0.021580153529792548, 0.022064609744004884, 0.02227067230175664, 0.022696700563260425, 0.023310178578813165, 0.0228075302367286, 0.022214190800809136, 0.022159541136026306, 0.02163333885015324, 0.021697533896737703, 0.021779019848629358, 0.02098232088297207, 0.020826682269242544, 0.020801609557743614, 0.020361424666663658, 0.0200889640099583, 0.020004249880115177, 0.019887320682504747, 0.01601624866374683, 0.015669743806369013, 0.015309167210384025, 0.015490844483323125, 0.015121410231427351, 0.01473378705838194, 0.01895983408499985, 0.018598835816052053, 0.018265591309543555, 0.018011934534507362, 0.017790979200966006, 0.017194782133070532, 0.017243014274481605, 0.01690948574605232, 0.017041689927175294, 0.016945752091858404, 0.016564487307067485, 0.01570577690040291, 0.015573212421510385, 0.015037282337005353, 0.014847597709621282, 0.014418066518342404, 0.014272278934345142, 0.014217461460779124, 0.01423180390944774, 0.013312893332282902, 0.013249323523155151, 0.012774054510199404, 0.012721930687250041, 0.012962641990300214, 0.012901415452681156, 0.012836250683289335, 0.013622241014572906, 0.011350486414919696, 0.011230462051448814, 0.011199647787679241, 0.010604732063440824]\n"
     ]
    }
   ],
   "source": [
    "import numpy as np\n",
    "\n",
    "n_ts = merge_1000_c4.get_dataset_info()[\"snapshot_count\"]\n",
    "m = merge_1000_c4.get_dataset_info()[\"memebers\"]\n",
    "gs = merge_1000_c4.get_snapshots()\n",
    "\n",
    "a = []\n",
    "for i in range(n_ts):\n",
    "    a.append(gs[i].modularity(m[i]))\n",
    "\n",
    "print(a)"
   ]
  },
  {
   "cell_type": "code",
   "execution_count": 8,
   "metadata": {},
   "outputs": [],
   "source": [
    "img_path = \"outputs\"\n",
    "merge_1000_c4.save_graphs_img(img_path)"
   ]
  },
  {
   "cell_type": "code",
   "execution_count": 9,
   "metadata": {},
   "outputs": [],
   "source": [
    "for id_sn in range(merge_c4.get_dataset_info()[\"snapshot_count\"]):\n",
    "    sn = merge_1000_c4.snapshots[id_sn]\n",
    "\n",
    "    communities = sn.community_infomap()\n",
    "    colors = ['red', 'green', 'blue', 'yellow']\n",
    "\n",
    "    for i, comm in enumerate(communities):\n",
    "        for n in comm:\n",
    "            sn.vs[n][\"color\"] = colors[i]\n",
    "\n",
    "    visual_style = {\"bbox\": (800, 600), \"margin\": 60, \"vertex_size\": 8, \"vertex_label_size\": 20,\n",
    "                    \"vertex_color\": sn.vs['color'], \"edge_width\": 0.5,\n",
    "                    \"layout\": sn.layout_auto(), \"vertex_label\": sn.vs[\"name\"]}\n",
    "\n",
    "    img_path = \"label_comms_{0}.png\".format(id_sn)\n",
    "    igraph.plot(sn, img_path, **visual_style)"
   ]
  },
  {
   "cell_type": "code",
   "execution_count": null,
   "metadata": {},
   "outputs": [],
   "source": []
  }
 ],
 "metadata": {
  "kernelspec": {
   "display_name": "Python 3",
   "language": "python",
   "name": "python3"
  },
  "language_info": {
   "codemirror_mode": {
    "name": "ipython",
    "version": 3
   },
   "file_extension": ".py",
   "mimetype": "text/x-python",
   "name": "python",
   "nbconvert_exporter": "python",
   "pygments_lexer": "ipython3",
   "version": "3.6.4"
  }
 },
 "nbformat": 4,
 "nbformat_minor": 2
}
